{
  "nbformat": 4,
  "nbformat_minor": 0,
  "metadata": {
    "colab": {
      "provenance": []
    },
    "kernelspec": {
      "name": "python3",
      "display_name": "Python 3"
    },
    "language_info": {
      "name": "python"
    }
  },
  "cells": [
    {
      "cell_type": "code",
      "execution_count": null,
      "metadata": {
        "id": "aHCCqV0U08Nd"
      },
      "outputs": [],
      "source": []
    },
    {
      "cell_type": "markdown",
      "source": [
        "1. What is the difference between a function and a method in Python?\n",
        "-> **Function**: A standalone block of reusable code defined using def, which can be called independently.\n",
        "- > **Method**: Essentially a function associated with an object or class, accessed using dot notation. It implicitly receives that object as its first parameter\n"
      ],
      "metadata": {
        "id": "QX4POPVp0_Pn"
      }
    },
    {
      "cell_type": "code",
      "source": [
        "# Example\n",
        "def add(x, y):\n",
        "    return x + y"
      ],
      "metadata": {
        "id": "hSTa3JnR1b_m"
      },
      "execution_count": 2,
      "outputs": []
    },
    {
      "cell_type": "code",
      "source": [
        "class Person:\n",
        "    def greet(self):\n",
        "        return \"Hi, I'm me\""
      ],
      "metadata": {
        "id": "BE2qSdcW1qHt"
      },
      "execution_count": 4,
      "outputs": []
    },
    {
      "cell_type": "markdown",
      "source": [
        "2. Explain the concept of function arguments and parameters in Python.\n",
        "-> **Parameter**: The variable name in the function definition.\n",
        "->** Argument**: The actual value passed to the function when calling it."
      ],
      "metadata": {
        "id": "lAQXuwRI1tWN"
      }
    },
    {
      "cell_type": "code",
      "source": [
        "def multiply(a, b):  # a, b are parameters\n",
        "    return a * b\n",
        "\n",
        "result = multiply(4, 5)  # 4, 5 are arguments"
      ],
      "metadata": {
        "id": "XOEL7wkw2DIH"
      },
      "execution_count": 9,
      "outputs": []
    },
    {
      "cell_type": "markdown",
      "source": [
        "3.  What are the different ways to define and call a function in Python?\n",
        "->(a) Lambda function\n",
        "->(b) Named function\n",
        "->(C) Function as an object\n"
      ],
      "metadata": {
        "id": "MFshi0UO2Zmw"
      }
    },
    {
      "cell_type": "code",
      "source": [
        "# Example Lamada function\n",
        "square = lambda x: x * x\n",
        "square(3)\n"
      ],
      "metadata": {
        "colab": {
          "base_uri": "https://localhost:8080/"
        },
        "id": "Gkgd3SE73jbn",
        "outputId": "89c4572b-88c1-4529-c063-346147050c2a"
      },
      "execution_count": 10,
      "outputs": [
        {
          "output_type": "execute_result",
          "data": {
            "text/plain": [
              "9"
            ]
          },
          "metadata": {},
          "execution_count": 10
        }
      ]
    },
    {
      "cell_type": "code",
      "source": [
        "# Named function\n",
        "def greet(name):\n",
        "    print(f\"Hello, {name}!\")\n",
        "\n",
        "greet(\"Abhishek\")"
      ],
      "metadata": {
        "colab": {
          "base_uri": "https://localhost:8080/"
        },
        "id": "WW1wC5et3rCz",
        "outputId": "482bb068-0e40-4d51-e756-baf54b485c61"
      },
      "execution_count": 11,
      "outputs": [
        {
          "output_type": "stream",
          "name": "stdout",
          "text": [
            "Hello, Abhishek!\n"
          ]
        }
      ]
    },
    {
      "cell_type": "code",
      "source": [
        "# Function as an object\n",
        "def say_hello(name):\n",
        "    return f\"Hello, {name}!\"\n",
        "\n",
        "my_function = say_hello\n",
        "my_function(\"Abhishek\")"
      ],
      "metadata": {
        "colab": {
          "base_uri": "https://localhost:8080/",
          "height": 36
        },
        "id": "vvW97dXQ35wZ",
        "outputId": "d670454c-3d12-4d12-e52c-b4f2a345203d"
      },
      "execution_count": 12,
      "outputs": [
        {
          "output_type": "execute_result",
          "data": {
            "text/plain": [
              "'Hello, Abhishek!'"
            ],
            "application/vnd.google.colaboratory.intrinsic+json": {
              "type": "string"
            }
          },
          "metadata": {},
          "execution_count": 12
        }
      ]
    },
    {
      "cell_type": "markdown",
      "source": [
        "4.  What is the purpose of the `return` statement in a Python function?\n",
        "-> The return statement ends function execution and optionally passes back a value. Without it, functions return None."
      ],
      "metadata": {
        "id": "y-3xNuAp4PRa"
      }
    },
    {
      "cell_type": "code",
      "source": [
        "def sum(a, b):\n",
        "    return a + b\n",
        "\n",
        "def bad_sum(a, b):\n",
        "    print(a + b)"
      ],
      "metadata": {
        "id": "956xDbeX4ZZh"
      },
      "execution_count": 14,
      "outputs": []
    },
    {
      "cell_type": "markdown",
      "source": [
        "5. What are iterators in Python and how do they differ from iterables?\n",
        "-> **Iterable**: An object that can be looped over like lists, strings.          \n",
        "-> **Iterator**: The object returned by iter(), which maintains internal state and defines __next__() to fetch each element."
      ],
      "metadata": {
        "id": "t-_UFYot4gcg"
      }
    },
    {
      "cell_type": "code",
      "source": [
        "lst = [1, 2, 3]        # iterable\n",
        "it = iter(lst)        # iterator\n",
        "next(it)  # -> 1\n",
        "next(it)  # -> 2, and so on"
      ],
      "metadata": {
        "colab": {
          "base_uri": "https://localhost:8080/"
        },
        "id": "dZcpVCq844FO",
        "outputId": "874d545b-49ee-431c-defb-9ae0d8d0ca1e"
      },
      "execution_count": 15,
      "outputs": [
        {
          "output_type": "execute_result",
          "data": {
            "text/plain": [
              "2"
            ]
          },
          "metadata": {},
          "execution_count": 15
        }
      ]
    },
    {
      "cell_type": "markdown",
      "source": [
        "6. Explain the concept of generators in Python and how they are defined.\n",
        "-> Generators are special functions using yield to produce a sequence of values over time, pausing and resuming execution between yields\n"
      ],
      "metadata": {
        "id": "JJcHKDbg4948"
      }
    },
    {
      "cell_type": "code",
      "source": [
        "# Example\n",
        "def countdown(n):\n",
        "    while n > 0:\n",
        "        yield n\n",
        "        n -= 1\n",
        "\n",
        "for num in countdown(3):\n",
        "    print(num)"
      ],
      "metadata": {
        "colab": {
          "base_uri": "https://localhost:8080/"
        },
        "id": "Z3cI-xpX5IFH",
        "outputId": "a5a6f6f9-fee3-43ff-ade1-59b2f8137a68"
      },
      "execution_count": 16,
      "outputs": [
        {
          "output_type": "stream",
          "name": "stdout",
          "text": [
            "3\n",
            "2\n",
            "1\n"
          ]
        }
      ]
    },
    {
      "cell_type": "markdown",
      "source": [
        "7.  What are the advantages of using generators over regular functions?\n",
        "-> Memory-efficient: Values are produced lazily, not stored in bulk              \n",
        "->Readable & concise for streaming data.                                           \n",
        "->Can be infinite or large (fits big-data scenarios).                              \n",
        "->Faster startup as they don't build full data structures upfront.      \n",
        "           "
      ],
      "metadata": {
        "id": "6tceE0lP5MsS"
      }
    },
    {
      "cell_type": "markdown",
      "source": [
        "8. What is a lambda function in Python and when is it typically used?\n",
        "-> Anonymous, inline functions created with lambda. Typically used for small throwaway tasks (like in map, filter, sorted, or event callbacks).\n"
      ],
      "metadata": {
        "id": "RSlErIHp5zg2"
      }
    },
    {
      "cell_type": "code",
      "source": [
        "#Example\n",
        "doubles = map(lambda x: x * 2, [1, 2, 3])\n",
        "print(list(doubles))  # [2, 4, 6]"
      ],
      "metadata": {
        "colab": {
          "base_uri": "https://localhost:8080/"
        },
        "id": "Z2l4yxkI6AHc",
        "outputId": "7f984b22-2459-4c17-a52d-63eb82483267"
      },
      "execution_count": 17,
      "outputs": [
        {
          "output_type": "stream",
          "name": "stdout",
          "text": [
            "[2, 4, 6]\n"
          ]
        }
      ]
    },
    {
      "cell_type": "markdown",
      "source": [
        "9. Explain the purpose and usage of the `map()` function in Python.\n",
        "-> map(function, iterable) applies the given function to each element in the iterable and returns a lazy map object."
      ],
      "metadata": {
        "id": "dPORIQPu6D9F"
      }
    },
    {
      "cell_type": "code",
      "source": [
        "# Example\n",
        "nums = [1, 2, 3]\n",
        "squares = map(lambda x: x*x, nums)\n",
        "print(list(squares))  # [1, 4, 9]"
      ],
      "metadata": {
        "colab": {
          "base_uri": "https://localhost:8080/"
        },
        "id": "UwUZaoQ26NUI",
        "outputId": "74d958b3-f948-454c-f21f-0105b2bffb46"
      },
      "execution_count": 18,
      "outputs": [
        {
          "output_type": "stream",
          "name": "stdout",
          "text": [
            "[1, 4, 9]\n"
          ]
        }
      ]
    },
    {
      "cell_type": "markdown",
      "source": [
        "10.  What is the difference between `map()`, `reduce()`, and `filter()` functions in Python?\n",
        "-> map(f, iterable): Transforms each element using f.                            \n",
        "-> filter(f, iterable): Keeps elements where f(element) is True.                 \n",
        "-> reduce(f, iterable) (from functools): Cumulatively reduces all elements via a binary function f.                            "
      ],
      "metadata": {
        "id": "Z5EMbz_z6SFu"
      }
    },
    {
      "cell_type": "code",
      "source": [
        "# Example\n",
        "nums = [1, 2, 3, 4]\n",
        "print(list(map(lambda x: x+1, nums)))            # [2,3,4,5]\n",
        "print(list(filter(lambda x: x%2==0, nums)))     # [2,4]\n",
        "print(lambda a, b: a + b, nums)        # 10"
      ],
      "metadata": {
        "colab": {
          "base_uri": "https://localhost:8080/"
        },
        "id": "yePTJ9sK6nlW",
        "outputId": "264f5fd9-08e5-4715-e1af-e150c53df2e1"
      },
      "execution_count": 20,
      "outputs": [
        {
          "output_type": "stream",
          "name": "stdout",
          "text": [
            "[2, 3, 4, 5]\n",
            "[2, 4]\n",
            "<function <lambda> at 0x7a052cc5ca40> [1, 2, 3, 4]\n"
          ]
        }
      ]
    },
    {
      "cell_type": "markdown",
      "source": [
        "# **Practical Questions:**"
      ],
      "metadata": {
        "id": "Xrgk8DOk68Zl"
      }
    },
    {
      "cell_type": "markdown",
      "source": [
        "1.  Write a Python function that takes a list of numbers as input and returns the sum of all even numbers in\n",
        "the list."
      ],
      "metadata": {
        "id": "yiufZS8E7Dme"
      }
    },
    {
      "cell_type": "code",
      "source": [
        "def sum_even(nums):\n",
        "    return sum(x for x in nums if x % 2 == 0)\n"
      ],
      "metadata": {
        "id": "qxA-UVw37VPR"
      },
      "execution_count": 29,
      "outputs": []
    },
    {
      "cell_type": "markdown",
      "source": [
        "2.  Create a Python function that accepts a string and returns the reverse of that string."
      ],
      "metadata": {
        "id": "urJO06Hs8CN-"
      }
    },
    {
      "cell_type": "code",
      "source": [
        "word = say_hello\n",
        "print(reverse_string(\"say hello\"))"
      ],
      "metadata": {
        "colab": {
          "base_uri": "https://localhost:8080/"
        },
        "id": "4isgh2YA8I4d",
        "outputId": "149b87e0-b329-4042-ac7d-90e91b2a7506"
      },
      "execution_count": 45,
      "outputs": [
        {
          "output_type": "stream",
          "name": "stdout",
          "text": [
            "olleh yas\n"
          ]
        }
      ]
    },
    {
      "cell_type": "markdown",
      "source": [
        "5.  Create an iterator class in Python that generates the Fibonacci sequence up to a specified number of\n",
        "terms."
      ],
      "metadata": {
        "id": "x6t2RIe7_gTj"
      }
    },
    {
      "cell_type": "code",
      "source": [
        "fib5 = FibonacciIterator(5)\n",
        "print(list(fib5))\n",
        "\n"
      ],
      "metadata": {
        "colab": {
          "base_uri": "https://localhost:8080/"
        },
        "id": "knTiiKVS_jD4",
        "outputId": "d378f7af-121c-4b25-cfec-16fa8e49fc5b"
      },
      "execution_count": 70,
      "outputs": [
        {
          "output_type": "stream",
          "name": "stdout",
          "text": [
            "[0, 1, 1, 2, 3]\n"
          ]
        }
      ]
    },
    {
      "cell_type": "markdown",
      "source": [
        "4. Write a Python function that checks if a given number is prime or not from 1 to 200."
      ],
      "metadata": {
        "id": "SoE8oSOiAfGf"
      }
    },
    {
      "cell_type": "code",
      "source": [
        "def is_prime(n):\n",
        "    if n <= 1 or n > 200:\n",
        "        return False\n",
        "    for i in range(2, int(n**0.5) + 1):\n",
        "        if n % i == 0:\n",
        "            return False\n",
        "    return True\n",
        "    print(is_prime(199))\n",
        "print(is_prime(200))\n",
        "\n",
        ""
      ],
      "metadata": {
        "colab": {
          "base_uri": "https://localhost:8080/"
        },
        "id": "Ycdp5WaNAhKs",
        "outputId": "88c2b726-1281-403f-c343-ab6bf1bed25e"
      },
      "execution_count": 91,
      "outputs": [
        {
          "output_type": "stream",
          "name": "stdout",
          "text": [
            "False\n"
          ]
        }
      ]
    },
    {
      "cell_type": "markdown",
      "source": [
        "8. Use a lambda function in Python to sort a list of tuples based on the second element of each tuple."
      ],
      "metadata": {
        "id": "YDdImV20FD0b"
      }
    },
    {
      "cell_type": "code",
      "source": [
        "data = [(\"a\", 3), (\"b\", 1), (\"c\", 2)]\n",
        "sorted_data = sorted(data, key=lambda x: x[1])\n",
        "print(sorted_data)"
      ],
      "metadata": {
        "colab": {
          "base_uri": "https://localhost:8080/"
        },
        "id": "ScHVAS7KFFcW",
        "outputId": "b821a5fe-e1f0-43e0-ab4d-b5c396bc610e"
      },
      "execution_count": 120,
      "outputs": [
        {
          "output_type": "stream",
          "name": "stdout",
          "text": [
            "[('b', 1), ('c', 2), ('a', 3)]\n"
          ]
        }
      ]
    },
    {
      "cell_type": "markdown",
      "source": [
        "9. Write a Python program that uses `map()` to convert a list of temperatures from Celsius to Fahrenheit."
      ],
      "metadata": {
        "id": "iRFvj5meFQh3"
      }
    },
    {
      "cell_type": "code",
      "source": [
        "def c2f(c):\n",
        "    return (c * 9/5) + 32\n",
        "\n",
        "celsius = [0, 20, 37, 100]\n",
        "fahrenheit = list(map(c2f, celsius))\n",
        "print(fahrenheit)"
      ],
      "metadata": {
        "colab": {
          "base_uri": "https://localhost:8080/"
        },
        "id": "On0R2aH9FXfG",
        "outputId": "c9ea20be-9e2e-48d1-b35b-d492483c028e"
      },
      "execution_count": 121,
      "outputs": [
        {
          "output_type": "stream",
          "name": "stdout",
          "text": [
            "[32.0, 68.0, 98.6, 212.0]\n"
          ]
        }
      ]
    },
    {
      "cell_type": "markdown",
      "source": [
        "10.  Create a Python program that uses `filter()` to remove all the vowels from a given string."
      ],
      "metadata": {
        "id": "OmRbTyWeFcaZ"
      }
    },
    {
      "cell_type": "code",
      "source": [
        "def remove_vowels(text):\n",
        "    vowels = \"aeiouAEIOU\"\n",
        "    return ''.join(filter(lambda ch: ch not in vowels, text))\n",
        "\n",
        "print(remove_vowels(\"Hello, World!\"))"
      ],
      "metadata": {
        "colab": {
          "base_uri": "https://localhost:8080/"
        },
        "id": "Nxwd_LLUFfe4",
        "outputId": "29067a32-3b0d-4fe1-bda5-ccb339716df4"
      },
      "execution_count": 122,
      "outputs": [
        {
          "output_type": "stream",
          "name": "stdout",
          "text": [
            "Hll, Wrld!\n"
          ]
        }
      ]
    },
    {
      "cell_type": "markdown",
      "source": [
        "11.  Imagine an accounting routine used in a book shop. It works on a list with sublists, which look like this:\n",
        "\n"
      ],
      "metadata": {
        "id": "6jjefVA9F_kD"
      }
    },
    {
      "cell_type": "code",
      "source": [
        "# 📦 Input data: each entry is [order_number, title, quantity, price_per_item]\n",
        "orders = [\n",
        "    [\"34587\", \"Learning Python, Mark Lutz\", 4, 40.95],\n",
        "    [\"98762\", \"Programming Python, Mark Lutz\", 5, 56.80],\n",
        "    [\"77226\", \"Head First Python, Paul Barry\", 3, 32.95],\n",
        "    [\"88112\", \"Einführung in Python3, Bernd Klein\", 3, 24.99]\n",
        "]\n",
        "\n",
        "min_total = 100  # threshold for additional €10\n",
        "\n",
        "# Process with nested map:\n",
        "# 1️⃣ inner map: compute (order_number, total = quantity * price)\n",
        "# 2️⃣ outer map: if total < 100, add €10\n",
        "invoice_totals = list(map(\n",
        "    lambda t: t if t[1] >= min_total else (t[0], round(t[1] + 10, 2)),\n",
        "    map(lambda x: (x[0], x[2] * x[3]), orders)\n",
        "))\n",
        "\n",
        "print(invoice_totals)\n"
      ],
      "metadata": {
        "colab": {
          "base_uri": "https://localhost:8080/"
        },
        "id": "uJaTgccBGJro",
        "outputId": "2e552fee-155a-4443-9b4d-15edafdec075"
      },
      "execution_count": 123,
      "outputs": [
        {
          "output_type": "stream",
          "name": "stdout",
          "text": [
            "[('34587', 163.8), ('98762', 284.0), ('77226', 108.85), ('88112', 84.97)]\n"
          ]
        }
      ]
    }
  ]
}